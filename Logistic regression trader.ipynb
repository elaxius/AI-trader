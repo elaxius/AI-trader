{
 "cells": [
  {
   "cell_type": "code",
   "id": "25060ece8e83bd96",
   "metadata": {
    "ExecuteTime": {
     "end_time": "2025-02-27T08:06:41.325967Z",
     "start_time": "2025-02-27T08:06:41.251491Z"
    }
   },
   "source": [
    "# features\n",
    "# - TEMA\n",
    "# - EMA4, 9, 18 crossover\n",
    "# - False Breakout Finder (*new intraday high, close lower than previous high, new intraday low, close higher than previous low\n",
    "# - ATR\n",
    "# - Relative Strength Analysis\n",
    "# - market breadth (indicator of overall market performance)\n",
    "# - skdj\n",
    "\n",
    "import yfinance as yf\n",
    "import pandas as pd\n",
    "import ta\n",
    "\n",
    "from sklearn.model_selection import train_test_split, cross_val_score\n",
    "from sklearn.linear_model import LogisticRegression\n",
    "from sklearn.ensemble import RandomForestClassifier\n",
    "from sklearn.feature_selection import SequentialFeatureSelector\n",
    "from sklearn.metrics import roc_auc_score\n",
    "from sklearn.model_selection import StratifiedKFold\n",
    "from sklearn.preprocessing import StandardScaler"
   ],
   "outputs": [],
   "execution_count": 91
  },
  {
   "metadata": {
    "ExecuteTime": {
     "end_time": "2025-02-27T07:27:34.113723Z",
     "start_time": "2025-02-27T07:27:34.078725Z"
    }
   },
   "cell_type": "code",
   "source": [
    "def download_data(ticker: str):\n",
    "    df = yf.download(ticker, period=\"5y\", interval=\"1d\", multi_level_index=False)\n",
    "    df.dropna(inplace=True)\n",
    "    return df\n",
    "\n",
    "def calculate_indicators(df):\n",
    "    df['RSI'] = ta.momentum.RSIIndicator(df['Close']).rsi()\n",
    "\n",
    "    macd = ta.trend.MACD(df['Close'])\n",
    "    df['MACD'] = macd.macd()\n",
    "    df['MACD_Signal'] = macd.macd_signal()\n",
    "    df['MACD_Hist'] = macd.macd_diff()\n",
    "\n",
    "    df['ATR'] = ta.volatility.AverageTrueRange(df['High'], df['Low'], df['Close']).average_true_range()\n",
    "\n",
    "    df['TEMA'] = ta.trend.EMAIndicator(df['Close'], window=30).ema_indicator()\n",
    "    df['EMA4'] = ta.trend.EMAIndicator(df['Close'], window=4).ema_indicator()\n",
    "    df['EMA9'] = ta.trend.EMAIndicator(df['Close'], window=9).ema_indicator()\n",
    "    df['EMA18'] = ta.trend.EMAIndicator(df['Close'], window=18).ema_indicator()\n",
    "\n",
    "    df['EMA4_Crossover_up'] = (df['EMA4'] > df['EMA9']) & (df['EMA9'] > df['EMA18'])\n",
    "    df['EMA4_Crossover_down'] = (df['EMA4'] < df['EMA9']) & (df['EMA9'] < df['EMA18'])\n",
    "\n",
    "    stoch = ta.momentum.StochasticOscillator(df['High'], df['Low'], df['Close'])\n",
    "    df['SKDJ_K'] = stoch.stoch()\n",
    "    df['SKDJ_D'] = stoch.stoch_signal()\n",
    "\n",
    "    return df\n",
    "\n",
    "def calculate_flags(df):\n",
    "    df['Max_High_2w'] = df['High'].rolling(window=14).max().shift(-14)\n",
    "    df['Min_Low_2w'] = df['Low'].rolling(window=14).min().shift(-14)\n",
    "    df['Flag'] = df.apply(lambda row: 1 if row['Max_High_2w'] > 1.1*row['Close'] else (-1 if row['Min_Low_2w'] < 0.9*row['Close'] else 0), axis=1)\n",
    "    return df\n",
    "\n",
    "def calculate_relative_strength(df, market):\n",
    "    df_market = yf.download(market, period=\"5y\", interval=\"1d\", multi_level_index=False)['Close'].rename(market)\n",
    "    df['market_close'] = df.merge(df_market, how='left', left_index=True, right_index=True)[market]\n",
    "    df['relative_strength'] = df['Close']/df['market_close']\n",
    "    df['relative_strength_EMA_4'] = ta.trend.EMAIndicator(df['relative_strength'], window=4).ema_indicator()\n",
    "    df['relative_strength_EMA_9'] = ta.trend.EMAIndicator(df['relative_strength'], window=9).ema_indicator()\n",
    "    df['relative_strength_EMA_4_9'] = df['relative_strength_EMA_4']/df['relative_strength_EMA_9']\n",
    "\n",
    "    return df\n",
    "\n",
    "def data_prep(ticker, market):\n",
    "    df = download_data(ticker)\n",
    "    df = calculate_indicators(df)\n",
    "    df = calculate_flags(df)\n",
    "    df = calculate_relative_strength(df, market)\n",
    "    df.drop(columns=['Max_High_2w', 'Min_Low_2w'], inplace=True)  # Clean up unnecessary columns\n",
    "    df.dropna(inplace=True)\n",
    "\n",
    "    return df\n",
    "    # df.to_csv(f'{ticker}_processed.csv')\n",
    "    # print(f'Data saved to {ticker}_processed.csv')"
   ],
   "id": "fbb4a036060a8727",
   "outputs": [],
   "execution_count": 48
  },
  {
   "metadata": {
    "collapsed": true,
    "ExecuteTime": {
     "end_time": "2025-02-27T08:01:00.933351Z",
     "start_time": "2025-02-27T08:01:00.622373Z"
    }
   },
   "cell_type": "code",
   "source": [
    "df =  data_prep(\"BTC-USD\", \"GDLC\")\n",
    "\n"
   ],
   "id": "initial_id",
   "outputs": [
    {
     "name": "stderr",
     "output_type": "stream",
     "text": [
      "[*********************100%***********************]  1 of 1 completed\n",
      "[*********************100%***********************]  1 of 1 completed\n"
     ]
    }
   ],
   "execution_count": 88
  },
  {
   "metadata": {
    "ExecuteTime": {
     "end_time": "2025-02-27T08:08:33.282345Z",
     "start_time": "2025-02-27T08:07:25.182336Z"
    }
   },
   "cell_type": "code",
   "source": [
    "# Sort data by Date\n",
    "df = df.sort_index()\n",
    "\n",
    "# Split the data into train and test (20% test data)\n",
    "# Define train-test split with a gap of 20 data points\n",
    "train_size = int(0.8 * len(df))\n",
    "train_data = df.iloc[:train_size]\n",
    "test_data = df.iloc[train_size + 20:]  # Skipping 20 rows\n",
    "\n",
    "# Features (excluding 'Date' and 'Flag' columns)\n",
    "features = ['RSI', 'MACD', 'MACD_Signal',\n",
    "            'MACD_Hist', 'ATR', 'TEMA', 'EMA4_Crossover_up',\n",
    "            'EMA4_Crossover_down', 'SKDJ_K', 'SKDJ_D', 'relative_strength_EMA_4_9']\n",
    "\n",
    "X_train = train_data[features]\n",
    "y_train = train_data['Flag']>0\n",
    "\n",
    "X_test = test_data[features]\n",
    "y_test = test_data['Flag']>0\n",
    "\n",
    "# 2) Logistic Regression with SequentialFeatureSelector and Cross-validation\n",
    "\n",
    "# Initialize logistic regression model\n",
    "# logreg = LogisticRegression(max_iter=10000)\n",
    "# Initialize RandomForestClassifier\n",
    "rf = RandomForestClassifier(n_estimators=100, random_state=42, n_jobs=-1)\n",
    "\n",
    "# Initialize SequentialFeatureSelector for backward selection\n",
    "selector = SequentialFeatureSelector(rf, n_features_to_select='auto', direction='backward', scoring='roc_auc', cv=5)\n",
    "\n",
    "# Fit the feature selector on the training data\n",
    "selector = selector.fit(X_train, y_train)\n",
    "\n",
    "# Get the selected features\n",
    "selected_features = selector.get_feature_names_out()\n",
    "\n",
    "# 3) Build Logistic Regression using selected features and evaluate AUROC with cross-validation\n",
    "X_train_selected = X_train[selected_features]\n",
    "X_test_selected = X_test[selected_features]\n",
    "\n",
    "# Initialize the Logistic Regression model\n",
    "rf.fit(X_train_selected, y_train)\n",
    "\n",
    "# Perform cross-validation with AUROC as scoring metric\n",
    "cv_scores = cross_val_score(rf, X_train_selected, y_train, cv=StratifiedKFold(5), scoring='roc_auc')\n",
    "\n",
    "# Print the cross-validation AUROC scores\n",
    "print(f\"Cross-validation AUROC scores: {cv_scores}\")\n",
    "print(f\"Mean AUROC: {cv_scores.mean()}\")\n",
    "\n",
    "# Evaluate AUROC on test data\n",
    "y_pred_proba = rf.predict_proba(X_test_selected)[:, 1]\n",
    "test_auroc = roc_auc_score(y_test, y_pred_proba)\n",
    "\n",
    "print(f\"AUROC on test data: {test_auroc}\")"
   ],
   "id": "6bc46bb2c03a6169",
   "outputs": [
    {
     "name": "stdout",
     "output_type": "stream",
     "text": [
      "Cross-validation AUROC scores: [0.56171514 0.38461951 0.49940476 0.55481602 0.5230535 ]\n",
      "Mean AUROC: 0.5047217875643277\n",
      "AUROC on test data: 0.4747820672478206\n"
     ]
    }
   ],
   "execution_count": 92
  },
  {
   "metadata": {
    "ExecuteTime": {
     "end_time": "2025-02-27T08:15:51.374327Z",
     "start_time": "2025-02-27T08:15:51.363325Z"
    }
   },
   "cell_type": "code",
   "source": "print(selected_features)\n",
   "id": "6ab7a8877503f821",
   "outputs": [
    {
     "name": "stdout",
     "output_type": "stream",
     "text": [
      "['RSI' 'MACD' 'MACD_Signal' 'EMA4_Crossover_up' 'SKDJ_K' 'SKDJ_D']\n"
     ]
    }
   ],
   "execution_count": 94
  },
  {
   "metadata": {
    "ExecuteTime": {
     "end_time": "2025-02-27T07:47:57.634635Z",
     "start_time": "2025-02-27T07:47:57.623635Z"
    }
   },
   "cell_type": "code",
   "source": [
    "X_test = X_test.copy()\n",
    "X_test['predicted'] = logreg.predict_proba(X_test_selected)[:, 1]\n",
    "X_test['actual'] = y_test"
   ],
   "id": "e26873cd58fd9627",
   "outputs": [],
   "execution_count": 86
  },
  {
   "metadata": {
    "ExecuteTime": {
     "end_time": "2025-02-27T07:47:59.830488Z",
     "start_time": "2025-02-27T07:47:59.816485Z"
    }
   },
   "cell_type": "code",
   "source": "X_test.to_csv('Data/model_prelim_results.csv')",
   "id": "d92218d943b5d556",
   "outputs": [],
   "execution_count": 87
  },
  {
   "metadata": {
    "ExecuteTime": {
     "end_time": "2025-02-27T07:48:02.065083Z",
     "start_time": "2025-02-27T07:48:02.052056Z"
    }
   },
   "cell_type": "code",
   "source": "",
   "id": "7f8a580085c7a0cf",
   "outputs": [],
   "execution_count": null
  },
  {
   "metadata": {},
   "cell_type": "code",
   "outputs": [],
   "execution_count": null,
   "source": "",
   "id": "40c2b96d8f995d09"
  }
 ],
 "metadata": {
  "kernelspec": {
   "display_name": "Python 3",
   "language": "python",
   "name": "python3"
  },
  "language_info": {
   "codemirror_mode": {
    "name": "ipython",
    "version": 2
   },
   "file_extension": ".py",
   "mimetype": "text/x-python",
   "name": "python",
   "nbconvert_exporter": "python",
   "pygments_lexer": "ipython2",
   "version": "2.7.6"
  }
 },
 "nbformat": 4,
 "nbformat_minor": 5
}
