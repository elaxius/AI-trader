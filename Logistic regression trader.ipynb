{
 "cells": [
  {
   "cell_type": "code",
   "execution_count": null,
   "id": "initial_id",
   "metadata": {
    "collapsed": true
   },
   "outputs": [],
   "source": [
    "# features\n",
    "# - TEMA\n",
    "# - EMA4, 9, 18 crossover\n",
    "# - False Breakout Finder (*new intraday high, close lower than previous high, new intraday low, close higher than previous low\n",
    "# - ATR\n",
    "# - Relative Strength Analysis\n",
    "# - market breadth (indicator of overall market performance)\n",
    "# - skdj\n"
   ]
  }
 ],
 "metadata": {
  "kernelspec": {
   "display_name": "Python 3",
   "language": "python",
   "name": "python3"
  },
  "language_info": {
   "codemirror_mode": {
    "name": "ipython",
    "version": 2
   },
   "file_extension": ".py",
   "mimetype": "text/x-python",
   "name": "python",
   "nbconvert_exporter": "python",
   "pygments_lexer": "ipython2",
   "version": "2.7.6"
  }
 },
 "nbformat": 4,
 "nbformat_minor": 5
}
